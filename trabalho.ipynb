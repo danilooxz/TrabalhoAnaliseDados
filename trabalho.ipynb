{
 "cells": [
  {
   "cell_type": "code",
   "execution_count": 1,
   "id": "a13d7dca",
   "metadata": {},
   "outputs": [],
   "source": [
    "import pandas as pd\n",
    "\n",
    "df=pd.read_csv('C:/trabalhodados/ecomm.data.csv')"
   ]
  },
  {
   "cell_type": "code",
   "execution_count": 4,
   "id": "9fb4224f",
   "metadata": {},
   "outputs": [
    {
     "data": {
      "application/vnd.microsoft.datawrangler.viewer.v0+json": {
       "columns": [
        {
         "name": "index",
         "rawType": "int64",
         "type": "integer"
        },
        {
         "name": "ProductID",
         "rawType": "int64",
         "type": "integer"
        },
        {
         "name": "ProductName",
         "rawType": "object",
         "type": "string"
        },
        {
         "name": "Category",
         "rawType": "object",
         "type": "string"
        },
        {
         "name": "Price",
         "rawType": "float64",
         "type": "float"
        },
        {
         "name": "QuantitySold",
         "rawType": "int64",
         "type": "integer"
        },
        {
         "name": "Promotion",
         "rawType": "object",
         "type": "string"
        },
        {
         "name": "Discount",
         "rawType": "int64",
         "type": "integer"
        },
        {
         "name": "Rating",
         "rawType": "float64",
         "type": "float"
        },
        {
         "name": "CustomerAge",
         "rawType": "int64",
         "type": "integer"
        },
        {
         "name": "CustomerGender",
         "rawType": "object",
         "type": "string"
        },
        {
         "name": "CustomerLocation",
         "rawType": "object",
         "type": "string"
        },
        {
         "name": "PurchaseDate",
         "rawType": "object",
         "type": "string"
        }
       ],
       "ref": "6bf62eec-c367-4074-b595-2c48484eda16",
       "rows": [
        [
         "0",
         "1001",
         "Badminton Set",
         "Electronics",
         "50.0",
         "77",
         "Yes",
         "32",
         "4.0",
         "64",
         "Female",
         "Australia",
         "2022-01-01"
        ],
        [
         "1",
         "1002",
         "Curtains",
         "Electronics",
         "196.0",
         "38",
         "Yes",
         "45",
         "0.0",
         "24",
         "Male",
         "China",
         "2022-01-02"
        ],
        [
         "2",
         "1003",
         "Hoodie",
         "Beauty",
         "336.0",
         "8",
         "No",
         "4",
         "0.0",
         "36",
         "Male",
         "India",
         "2022-01-03"
        ],
        [
         "3",
         "1004",
         "Mascara",
         "Beauty",
         "191.0",
         "78",
         "No",
         "42",
         "1.0",
         "39",
         "Male",
         "Australia",
         "2022-01-04"
        ],
        [
         "4",
         "1005",
         "Gaming Console",
         "Sports",
         "102.0",
         "74",
         "No",
         "47",
         "0.0",
         "52",
         "Female",
         "Russia",
         "2022-01-05"
        ]
       ],
       "shape": {
        "columns": 12,
        "rows": 5
       }
      },
      "text/html": [
       "<div>\n",
       "<style scoped>\n",
       "    .dataframe tbody tr th:only-of-type {\n",
       "        vertical-align: middle;\n",
       "    }\n",
       "\n",
       "    .dataframe tbody tr th {\n",
       "        vertical-align: top;\n",
       "    }\n",
       "\n",
       "    .dataframe thead th {\n",
       "        text-align: right;\n",
       "    }\n",
       "</style>\n",
       "<table border=\"1\" class=\"dataframe\">\n",
       "  <thead>\n",
       "    <tr style=\"text-align: right;\">\n",
       "      <th></th>\n",
       "      <th>ProductID</th>\n",
       "      <th>ProductName</th>\n",
       "      <th>Category</th>\n",
       "      <th>Price</th>\n",
       "      <th>QuantitySold</th>\n",
       "      <th>Promotion</th>\n",
       "      <th>Discount</th>\n",
       "      <th>Rating</th>\n",
       "      <th>CustomerAge</th>\n",
       "      <th>CustomerGender</th>\n",
       "      <th>CustomerLocation</th>\n",
       "      <th>PurchaseDate</th>\n",
       "    </tr>\n",
       "  </thead>\n",
       "  <tbody>\n",
       "    <tr>\n",
       "      <th>0</th>\n",
       "      <td>1001</td>\n",
       "      <td>Badminton Set</td>\n",
       "      <td>Electronics</td>\n",
       "      <td>50.0</td>\n",
       "      <td>77</td>\n",
       "      <td>Yes</td>\n",
       "      <td>32</td>\n",
       "      <td>4.0</td>\n",
       "      <td>64</td>\n",
       "      <td>Female</td>\n",
       "      <td>Australia</td>\n",
       "      <td>2022-01-01</td>\n",
       "    </tr>\n",
       "    <tr>\n",
       "      <th>1</th>\n",
       "      <td>1002</td>\n",
       "      <td>Curtains</td>\n",
       "      <td>Electronics</td>\n",
       "      <td>196.0</td>\n",
       "      <td>38</td>\n",
       "      <td>Yes</td>\n",
       "      <td>45</td>\n",
       "      <td>0.0</td>\n",
       "      <td>24</td>\n",
       "      <td>Male</td>\n",
       "      <td>China</td>\n",
       "      <td>2022-01-02</td>\n",
       "    </tr>\n",
       "    <tr>\n",
       "      <th>2</th>\n",
       "      <td>1003</td>\n",
       "      <td>Hoodie</td>\n",
       "      <td>Beauty</td>\n",
       "      <td>336.0</td>\n",
       "      <td>8</td>\n",
       "      <td>No</td>\n",
       "      <td>4</td>\n",
       "      <td>0.0</td>\n",
       "      <td>36</td>\n",
       "      <td>Male</td>\n",
       "      <td>India</td>\n",
       "      <td>2022-01-03</td>\n",
       "    </tr>\n",
       "    <tr>\n",
       "      <th>3</th>\n",
       "      <td>1004</td>\n",
       "      <td>Mascara</td>\n",
       "      <td>Beauty</td>\n",
       "      <td>191.0</td>\n",
       "      <td>78</td>\n",
       "      <td>No</td>\n",
       "      <td>42</td>\n",
       "      <td>1.0</td>\n",
       "      <td>39</td>\n",
       "      <td>Male</td>\n",
       "      <td>Australia</td>\n",
       "      <td>2022-01-04</td>\n",
       "    </tr>\n",
       "    <tr>\n",
       "      <th>4</th>\n",
       "      <td>1005</td>\n",
       "      <td>Gaming Console</td>\n",
       "      <td>Sports</td>\n",
       "      <td>102.0</td>\n",
       "      <td>74</td>\n",
       "      <td>No</td>\n",
       "      <td>47</td>\n",
       "      <td>0.0</td>\n",
       "      <td>52</td>\n",
       "      <td>Female</td>\n",
       "      <td>Russia</td>\n",
       "      <td>2022-01-05</td>\n",
       "    </tr>\n",
       "  </tbody>\n",
       "</table>\n",
       "</div>"
      ],
      "text/plain": [
       "   ProductID     ProductName     Category  Price  QuantitySold Promotion  \\\n",
       "0       1001   Badminton Set  Electronics   50.0            77       Yes   \n",
       "1       1002        Curtains  Electronics  196.0            38       Yes   \n",
       "2       1003          Hoodie       Beauty  336.0             8        No   \n",
       "3       1004         Mascara       Beauty  191.0            78        No   \n",
       "4       1005  Gaming Console       Sports  102.0            74        No   \n",
       "\n",
       "   Discount  Rating  CustomerAge CustomerGender CustomerLocation PurchaseDate  \n",
       "0        32     4.0           64         Female        Australia   2022-01-01  \n",
       "1        45     0.0           24           Male            China   2022-01-02  \n",
       "2         4     0.0           36           Male            India   2022-01-03  \n",
       "3        42     1.0           39           Male        Australia   2022-01-04  \n",
       "4        47     0.0           52         Female           Russia   2022-01-05  "
      ]
     },
     "execution_count": 4,
     "metadata": {},
     "output_type": "execute_result"
    }
   ],
   "source": [
    "\"\"\"\n",
    "Cell generated by Data Wrangler.\n",
    "\"\"\"\n",
    "def clean_data(df):\n",
    "    # Replace missing values with 0 in column: 'Rating'\n",
    "    df = df.fillna({'Rating': 0})\n",
    "    return df\n",
    "\n",
    "df_clean = clean_data(df.copy())\n",
    "df_clean.head()"
   ]
  },
  {
   "cell_type": "code",
   "execution_count": null,
   "id": "024efbc3",
   "metadata": {},
   "outputs": [
    {
     "name": "stdout",
     "output_type": "stream",
     "text": [
      "\n",
      "Depois do preenchimento:\n",
      "      ProductID     ProductName       Category  Price  QuantitySold Promotion  \\\n",
      "0         1001   Badminton Set    Electronics   50.0            77       Yes   \n",
      "1         1002        Curtains    Electronics  196.0            38       Yes   \n",
      "2         1003          Hoodie         Beauty  336.0             8        No   \n",
      "3         1004         Mascara         Beauty  191.0            78        No   \n",
      "4         1005  Gaming Console         Sports  102.0            74        No   \n",
      "..         ...             ...            ...    ...           ...       ...   \n",
      "995       1996    Coffee Maker         Sports  118.0            17       Yes   \n",
      "996       1997   Exercise Bike  Home & Garden  180.0             0       Yes   \n",
      "997       1998           Blush    Electronics  136.0            54        No   \n",
      "998       1999          Camera         Sports  267.0            96        No   \n",
      "999       2000   Tennis Racket    Electronics  470.0             8       Yes   \n",
      "\n",
      "     Discount  Rating  CustomerAge CustomerGender CustomerLocation  \\\n",
      "0          32     4.0           64         Female        Australia   \n",
      "1          45     0.0           24           Male            China   \n",
      "2           4     0.0           36           Male            India   \n",
      "3          42     1.0           39           Male        Australia   \n",
      "4          47     0.0           52         Female           Russia   \n",
      "..        ...     ...          ...            ...              ...   \n",
      "995        34     0.0           36         Female           Brazil   \n",
      "996        21     1.0           38         Female           France   \n",
      "997        39     0.0           41           Male            Spain   \n",
      "998        22     0.0           55         Female           France   \n",
      "999         2     2.0           21           Male            India   \n",
      "\n",
      "    PurchaseDate  \n",
      "0     2022-01-01  \n",
      "1     2022-01-02  \n",
      "2     2022-01-03  \n",
      "3     2022-01-04  \n",
      "4     2022-01-05  \n",
      "..           ...  \n",
      "995   2024-09-22  \n",
      "996   2024-09-23  \n",
      "997   2024-09-24  \n",
      "998   2024-09-25  \n",
      "999   2024-09-26  \n",
      "\n",
      "[1000 rows x 12 columns]\n"
     ]
    }
   ],
   "source": [
    "# Calcula a mediana apenas do item Sweater, ignorando valores nulos\n",
    "mediana_sweater = df_clean.loc[df['ProductName'] == 'Sweater', 'Price'].median()\n",
    "\n",
    "# Preenche apenas os valores nulos do item Sweater\n",
    "df_clean.loc[(df_clean['ProductName'] == 'Sweater') & (df_clean['Price'].isnull()), 'Price'] = mediana_sweater\n",
    "\n",
    "print(\"\\nDepois do preenchimento:\\n\", df_clean)\n"
   ]
  },
  {
   "cell_type": "code",
   "execution_count": null,
   "id": "148d1fb4",
   "metadata": {},
   "outputs": [],
   "source": [
    "# Calcula a mediana de preços de todos os itens que estão nulos de acordo com o seu tipo\n",
    "df_clean['Price'] = df_clean['Price'].fillna(\n",
    "    df_clean.groupby('ProductName')['Price'].transform('median')\n",
    ")"
   ]
  },
  {
   "cell_type": "code",
   "execution_count": null,
   "id": "4580a9e7",
   "metadata": {},
   "outputs": [
    {
     "name": "stdout",
     "output_type": "stream",
     "text": [
      "\n",
      " média de vendas por país: \n",
      "     CustomerLocation       ProductName  QuantitySold\n",
      "0          Australia      Air Purifier         51.00\n",
      "1          Australia     Badminton Set         52.50\n",
      "2          Australia        Basketball         60.00\n",
      "3          Australia               Bed         -8.00\n",
      "4          Australia            Camera         54.00\n",
      "..               ...               ...           ...\n",
      "540    United States     Tennis Racket         90.00\n",
      "541    United States         Treadmill         62.00\n",
      "542    United States    Vacuum Cleaner         75.00\n",
      "543    United States  Wireless Earbuds         37.50\n",
      "544    United States          Yoga Mat         63.25\n",
      "\n",
      "[545 rows x 3 columns]\n"
     ]
    }
   ],
   "source": [
    "#Pergunta 1:\n",
    "\n",
    "# Cria um novo DataFrame com a média de vendas de cada item por pais \n",
    "df_media_paises = df_clean.groupby(['CustomerLocation', 'ProductName'], as_index=False)['QuantitySold'].mean()\n",
    "\n",
    "print(\"\\n média de vendas por país: \\n\", df_media_paises)"
   ]
  }
 ],
 "metadata": {
  "kernelspec": {
   "display_name": "Python 3",
   "language": "python",
   "name": "python3"
  },
  "language_info": {
   "codemirror_mode": {
    "name": "ipython",
    "version": 3
   },
   "file_extension": ".py",
   "mimetype": "text/x-python",
   "name": "python",
   "nbconvert_exporter": "python",
   "pygments_lexer": "ipython3",
   "version": "3.13.5"
  }
 },
 "nbformat": 4,
 "nbformat_minor": 5
}
